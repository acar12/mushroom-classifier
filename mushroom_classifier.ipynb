{
 "cells": [
  {
   "cell_type": "code",
   "execution_count": 31,
   "id": "c375389f-73d0-46da-ab83-dab1950c408e",
   "metadata": {},
   "outputs": [
    {
     "name": "stdout",
     "output_type": "stream",
     "text": [
      "     cap-shape cap-surface cap-color bruises odor gill-attachment  \\\n",
      "0            x           s         n       t    p               f   \n",
      "1            x           s         y       t    a               f   \n",
      "2            b           s         w       t    l               f   \n",
      "3            x           y         w       t    p               f   \n",
      "4            x           s         g       f    n               f   \n",
      "...        ...         ...       ...     ...  ...             ...   \n",
      "8119         k           s         n       f    n               a   \n",
      "8120         x           s         n       f    n               a   \n",
      "8121         f           s         n       f    n               a   \n",
      "8122         k           y         n       f    y               f   \n",
      "8123         x           s         n       f    n               a   \n",
      "\n",
      "     gill-spacing gill-size gill-color stalk-shape  ...  \\\n",
      "0               c         n          k           e  ...   \n",
      "1               c         b          k           e  ...   \n",
      "2               c         b          n           e  ...   \n",
      "3               c         n          n           e  ...   \n",
      "4               w         b          k           t  ...   \n",
      "...           ...       ...        ...         ...  ...   \n",
      "8119            c         b          y           e  ...   \n",
      "8120            c         b          y           e  ...   \n",
      "8121            c         b          n           e  ...   \n",
      "8122            c         n          b           t  ...   \n",
      "8123            c         b          y           e  ...   \n",
      "\n",
      "     stalk-surface-below-ring stalk-color-above-ring stalk-color-below-ring  \\\n",
      "0                           s                      w                      w   \n",
      "1                           s                      w                      w   \n",
      "2                           s                      w                      w   \n",
      "3                           s                      w                      w   \n",
      "4                           s                      w                      w   \n",
      "...                       ...                    ...                    ...   \n",
      "8119                        s                      o                      o   \n",
      "8120                        s                      o                      o   \n",
      "8121                        s                      o                      o   \n",
      "8122                        k                      w                      w   \n",
      "8123                        s                      o                      o   \n",
      "\n",
      "     veil-type veil-color ring-number ring-type spore-print-color population  \\\n",
      "0            p          w           o         p                 k          s   \n",
      "1            p          w           o         p                 n          n   \n",
      "2            p          w           o         p                 n          n   \n",
      "3            p          w           o         p                 k          s   \n",
      "4            p          w           o         e                 n          a   \n",
      "...        ...        ...         ...       ...               ...        ...   \n",
      "8119         p          o           o         p                 b          c   \n",
      "8120         p          n           o         p                 b          v   \n",
      "8121         p          o           o         p                 b          c   \n",
      "8122         p          w           o         e                 w          v   \n",
      "8123         p          o           o         p                 o          c   \n",
      "\n",
      "     habitat  \n",
      "0          u  \n",
      "1          g  \n",
      "2          m  \n",
      "3          u  \n",
      "4          g  \n",
      "...      ...  \n",
      "8119       l  \n",
      "8120       l  \n",
      "8121       l  \n",
      "8122       l  \n",
      "8123       l  \n",
      "\n",
      "[8124 rows x 22 columns]\n",
      "     poisonous\n",
      "0            p\n",
      "1            e\n",
      "2            e\n",
      "3            p\n",
      "4            e\n",
      "...        ...\n",
      "8119         e\n",
      "8120         e\n",
      "8121         e\n",
      "8122         p\n",
      "8123         e\n",
      "\n",
      "[8124 rows x 1 columns]\n"
     ]
    }
   ],
   "source": [
    "from ucimlrepo import fetch_ucirepo \n",
    "  \n",
    "# fetch dataset \n",
    "mushroom = fetch_ucirepo(id=73) \n",
    "  \n",
    "# data (as pandas dataframes) \n",
    "X = mushroom.data.features \n",
    "y = mushroom.data.targets \n",
    "\n",
    "print(X)\n",
    "print(y)"
   ]
  },
  {
   "cell_type": "code",
   "execution_count": 32,
   "id": "fc33c59a-2a93-44c7-b02f-ef72a5217233",
   "metadata": {},
   "outputs": [
    {
     "name": "stdout",
     "output_type": "stream",
     "text": [
      "   cap-shape  cap-surface  cap-color  bruises  odor  gill-attachment  \\\n",
      "0          0            0          0        0     0                0   \n",
      "1          0            0          1        0     1                0   \n",
      "2          1            0          2        0     2                0   \n",
      "3          0            1          2        0     0                0   \n",
      "4          0            0          3        1     3                0   \n",
      "\n",
      "   gill-spacing  gill-size  gill-color  stalk-shape  ...  \\\n",
      "0             0          0           0            0  ...   \n",
      "1             0          1           0            0  ...   \n",
      "2             0          1           1            0  ...   \n",
      "3             0          0           1            0  ...   \n",
      "4             1          1           0            1  ...   \n",
      "\n",
      "   stalk-surface-below-ring  stalk-color-above-ring  stalk-color-below-ring  \\\n",
      "0                         0                       0                       0   \n",
      "1                         0                       0                       0   \n",
      "2                         0                       0                       0   \n",
      "3                         0                       0                       0   \n",
      "4                         0                       0                       0   \n",
      "\n",
      "   veil-type  veil-color  ring-number  ring-type  spore-print-color  \\\n",
      "0          0           0            0          0                  0   \n",
      "1          0           0            0          0                  1   \n",
      "2          0           0            0          0                  1   \n",
      "3          0           0            0          0                  0   \n",
      "4          0           0            0          1                  1   \n",
      "\n",
      "   population  habitat  \n",
      "0           0        0  \n",
      "1           1        1  \n",
      "2           1        2  \n",
      "3           0        0  \n",
      "4           2        1  \n",
      "\n",
      "[5 rows x 22 columns]\n",
      "   poisonous\n",
      "0          1\n",
      "1          0\n",
      "2          0\n",
      "3          1\n",
      "4          0\n"
     ]
    },
    {
     "name": "stderr",
     "output_type": "stream",
     "text": [
      "/var/folders/jl/7dg7lsrx3d941ctmwn5wlkvr0000gp/T/ipykernel_77472/4191413954.py:12: SettingWithCopyWarning: \n",
      "A value is trying to be set on a copy of a slice from a DataFrame.\n",
      "Try using .loc[row_indexer,col_indexer] = value instead\n",
      "\n",
      "See the caveats in the documentation: https://pandas.pydata.org/pandas-docs/stable/user_guide/indexing.html#returning-a-view-versus-a-copy\n",
      "  X[col] = transform_categorical_data(X[col])\n",
      "/var/folders/jl/7dg7lsrx3d941ctmwn5wlkvr0000gp/T/ipykernel_77472/4191413954.py:14: SettingWithCopyWarning: \n",
      "A value is trying to be set on a copy of a slice from a DataFrame.\n",
      "Try using .loc[row_indexer,col_indexer] = value instead\n",
      "\n",
      "See the caveats in the documentation: https://pandas.pydata.org/pandas-docs/stable/user_guide/indexing.html#returning-a-view-versus-a-copy\n",
      "  y[\"poisonous\"] = (y[\"poisonous\"] == \"p\").astype(int) # p is 1, e is 0\n"
     ]
    }
   ],
   "source": [
    "import pandas as pd\n",
    "import numpy as np\n",
    "\n",
    "def transform_categorical_data(series):\n",
    "    unique = list(series.unique())\n",
    "    def func(value):\n",
    "        return unique.index(value)\n",
    "    series = series.apply(func)\n",
    "    return series\n",
    "\n",
    "for col in X:\n",
    "    X[col] = transform_categorical_data(X[col])\n",
    "\n",
    "y[\"poisonous\"] = (y[\"poisonous\"] == \"p\").astype(int) # p is 1, e is 0\n",
    "print(X.head())\n",
    "print(y.head())"
   ]
  },
  {
   "cell_type": "code",
   "execution_count": 33,
   "id": "9c721ad0-2416-4559-8295-4d5f8b1ea479",
   "metadata": {},
   "outputs": [
    {
     "data": {
      "text/plain": [
       "gill-size                  -0.540024\n",
       "gill-spacing               -0.348387\n",
       "cap-surface                -0.169663\n",
       "ring-number                -0.152261\n",
       "gill-attachment            -0.129200\n",
       "veil-color                 -0.120766\n",
       "stalk-shape                -0.102019\n",
       "cap-color                   0.042028\n",
       "stalk-color-below-ring      0.098476\n",
       "cap-shape                   0.112110\n",
       "population                  0.155254\n",
       "habitat                     0.191297\n",
       "stalk-color-above-ring      0.225294\n",
       "stalk-root                  0.337542\n",
       "gill-color                  0.412869\n",
       "bruises                     0.501530\n",
       "stalk-surface-below-ring    0.532452\n",
       "stalk-surface-above-ring    0.552044\n",
       "ring-type                   0.556515\n",
       "spore-print-color           0.560715\n",
       "odor                        0.582015\n",
       "poisonous                   1.000000\n",
       "veil-type                        NaN\n",
       "Name: poisonous, dtype: float64"
      ]
     },
     "execution_count": 33,
     "metadata": {},
     "output_type": "execute_result"
    }
   ],
   "source": [
    "df = X.copy()\n",
    "df[\"poisonous\"] = y[\"poisonous\"].copy()\n",
    "df.corr()[\"poisonous\"].sort_values()"
   ]
  },
  {
   "cell_type": "code",
   "execution_count": 34,
   "id": "4fb43dc7-8871-4aa1-85cd-3e4c6e966f4d",
   "metadata": {},
   "outputs": [
    {
     "name": "stderr",
     "output_type": "stream",
     "text": [
      "/var/folders/jl/7dg7lsrx3d941ctmwn5wlkvr0000gp/T/ipykernel_77472/1230451124.py:1: SettingWithCopyWarning: \n",
      "A value is trying to be set on a copy of a slice from a DataFrame\n",
      "\n",
      "See the caveats in the documentation: https://pandas.pydata.org/pandas-docs/stable/user_guide/indexing.html#returning-a-view-versus-a-copy\n",
      "  X.drop([\"veil-type\", \"stalk-root\"], axis=1, inplace=True) # I removed because of missing values\n"
     ]
    },
    {
     "data": {
      "text/plain": [
       "cap-shape                   False\n",
       "cap-surface                 False\n",
       "cap-color                   False\n",
       "bruises                     False\n",
       "odor                        False\n",
       "gill-attachment             False\n",
       "gill-spacing                False\n",
       "gill-size                   False\n",
       "gill-color                  False\n",
       "stalk-shape                 False\n",
       "stalk-surface-above-ring    False\n",
       "stalk-surface-below-ring    False\n",
       "stalk-color-above-ring      False\n",
       "stalk-color-below-ring      False\n",
       "veil-color                  False\n",
       "ring-number                 False\n",
       "ring-type                   False\n",
       "spore-print-color           False\n",
       "population                  False\n",
       "habitat                     False\n",
       "dtype: bool"
      ]
     },
     "execution_count": 34,
     "metadata": {},
     "output_type": "execute_result"
    }
   ],
   "source": [
    "X.drop([\"veil-type\", \"stalk-root\"], axis=1, inplace=True) # I removed because of missing values\n",
    "\n",
    "X.isna().any()"
   ]
  },
  {
   "cell_type": "code",
   "execution_count": 39,
   "id": "850c6bbb-b1ea-4047-b395-464e9f472ebd",
   "metadata": {},
   "outputs": [
    {
     "name": "stdout",
     "output_type": "stream",
     "text": [
      "20\n",
      "Epoch 1/20\n",
      "\u001b[1m191/191\u001b[0m \u001b[32m━━━━━━━━━━━━━━━━━━━━\u001b[0m\u001b[37m\u001b[0m \u001b[1m2s\u001b[0m 3ms/step - binary_accuracy: 0.6465 - loss: 0.6388 - val_binary_accuracy: 0.9020 - val_loss: 0.2784\n",
      "Epoch 2/20\n",
      "\u001b[1m191/191\u001b[0m \u001b[32m━━━━━━━━━━━━━━━━━━━━\u001b[0m\u001b[37m\u001b[0m \u001b[1m1s\u001b[0m 3ms/step - binary_accuracy: 0.9113 - loss: 0.2485 - val_binary_accuracy: 0.9350 - val_loss: 0.1783\n",
      "Epoch 3/20\n",
      "\u001b[1m191/191\u001b[0m \u001b[32m━━━━━━━━━━━━━━━━━━━━\u001b[0m\u001b[37m\u001b[0m \u001b[1m1s\u001b[0m 4ms/step - binary_accuracy: 0.9390 - loss: 0.1675 - val_binary_accuracy: 0.9547 - val_loss: 0.1340\n",
      "Epoch 4/20\n",
      "\u001b[1m191/191\u001b[0m \u001b[32m━━━━━━━━━━━━━━━━━━━━\u001b[0m\u001b[37m\u001b[0m \u001b[1m1s\u001b[0m 3ms/step - binary_accuracy: 0.9472 - loss: 0.1354 - val_binary_accuracy: 0.9641 - val_loss: 0.0967\n",
      "Epoch 5/20\n",
      "\u001b[1m191/191\u001b[0m \u001b[32m━━━━━━━━━━━━━━━━━━━━\u001b[0m\u001b[37m\u001b[0m \u001b[1m1s\u001b[0m 4ms/step - binary_accuracy: 0.9626 - loss: 0.0981 - val_binary_accuracy: 0.9764 - val_loss: 0.0710\n",
      "Epoch 6/20\n",
      "\u001b[1m191/191\u001b[0m \u001b[32m━━━━━━━━━━━━━━━━━━━━\u001b[0m\u001b[37m\u001b[0m \u001b[1m1s\u001b[0m 3ms/step - binary_accuracy: 0.9750 - loss: 0.0723 - val_binary_accuracy: 0.9823 - val_loss: 0.0553\n",
      "Epoch 7/20\n",
      "\u001b[1m191/191\u001b[0m \u001b[32m━━━━━━━━━━━━━━━━━━━━\u001b[0m\u001b[37m\u001b[0m \u001b[1m1s\u001b[0m 4ms/step - binary_accuracy: 0.9851 - loss: 0.0559 - val_binary_accuracy: 0.9882 - val_loss: 0.0455\n",
      "Epoch 8/20\n",
      "\u001b[1m191/191\u001b[0m \u001b[32m━━━━━━━━━━━━━━━━━━━━\u001b[0m\u001b[37m\u001b[0m \u001b[1m1s\u001b[0m 5ms/step - binary_accuracy: 0.9881 - loss: 0.0451 - val_binary_accuracy: 0.9941 - val_loss: 0.0349\n",
      "Epoch 9/20\n",
      "\u001b[1m191/191\u001b[0m \u001b[32m━━━━━━━━━━━━━━━━━━━━\u001b[0m\u001b[37m\u001b[0m \u001b[1m0s\u001b[0m 2ms/step - binary_accuracy: 0.9925 - loss: 0.0376 - val_binary_accuracy: 0.9951 - val_loss: 0.0271\n",
      "Epoch 10/20\n",
      "\u001b[1m191/191\u001b[0m \u001b[32m━━━━━━━━━━━━━━━━━━━━\u001b[0m\u001b[37m\u001b[0m \u001b[1m1s\u001b[0m 3ms/step - binary_accuracy: 0.9967 - loss: 0.0277 - val_binary_accuracy: 0.9975 - val_loss: 0.0233\n",
      "Epoch 11/20\n",
      "\u001b[1m191/191\u001b[0m \u001b[32m━━━━━━━━━━━━━━━━━━━━\u001b[0m\u001b[37m\u001b[0m \u001b[1m0s\u001b[0m 2ms/step - binary_accuracy: 0.9967 - loss: 0.0219 - val_binary_accuracy: 0.9990 - val_loss: 0.0183\n",
      "Epoch 12/20\n",
      "\u001b[1m191/191\u001b[0m \u001b[32m━━━━━━━━━━━━━━━━━━━━\u001b[0m\u001b[37m\u001b[0m \u001b[1m1s\u001b[0m 3ms/step - binary_accuracy: 0.9987 - loss: 0.0179 - val_binary_accuracy: 0.9990 - val_loss: 0.0151\n",
      "Epoch 13/20\n",
      "\u001b[1m191/191\u001b[0m \u001b[32m━━━━━━━━━━━━━━━━━━━━\u001b[0m\u001b[37m\u001b[0m \u001b[1m0s\u001b[0m 2ms/step - binary_accuracy: 0.9986 - loss: 0.0147 - val_binary_accuracy: 0.9995 - val_loss: 0.0122\n",
      "Epoch 14/20\n",
      "\u001b[1m191/191\u001b[0m \u001b[32m━━━━━━━━━━━━━━━━━━━━\u001b[0m\u001b[37m\u001b[0m \u001b[1m0s\u001b[0m 2ms/step - binary_accuracy: 0.9991 - loss: 0.0118 - val_binary_accuracy: 0.9995 - val_loss: 0.0105\n",
      "Epoch 15/20\n",
      "\u001b[1m191/191\u001b[0m \u001b[32m━━━━━━━━━━━━━━━━━━━━\u001b[0m\u001b[37m\u001b[0m \u001b[1m0s\u001b[0m 2ms/step - binary_accuracy: 0.9999 - loss: 0.0103 - val_binary_accuracy: 0.9995 - val_loss: 0.0091\n",
      "Epoch 16/20\n",
      "\u001b[1m191/191\u001b[0m \u001b[32m━━━━━━━━━━━━━━━━━━━━\u001b[0m\u001b[37m\u001b[0m \u001b[1m0s\u001b[0m 2ms/step - binary_accuracy: 1.0000 - loss: 0.0091 - val_binary_accuracy: 1.0000 - val_loss: 0.0078\n",
      "Epoch 17/20\n",
      "\u001b[1m191/191\u001b[0m \u001b[32m━━━━━━━━━━━━━━━━━━━━\u001b[0m\u001b[37m\u001b[0m \u001b[1m0s\u001b[0m 2ms/step - binary_accuracy: 1.0000 - loss: 0.0078 - val_binary_accuracy: 1.0000 - val_loss: 0.0067\n",
      "Epoch 18/20\n",
      "\u001b[1m191/191\u001b[0m \u001b[32m━━━━━━━━━━━━━━━━━━━━\u001b[0m\u001b[37m\u001b[0m \u001b[1m1s\u001b[0m 3ms/step - binary_accuracy: 1.0000 - loss: 0.0063 - val_binary_accuracy: 1.0000 - val_loss: 0.0062\n",
      "Epoch 19/20\n",
      "\u001b[1m191/191\u001b[0m \u001b[32m━━━━━━━━━━━━━━━━━━━━\u001b[0m\u001b[37m\u001b[0m \u001b[1m1s\u001b[0m 4ms/step - binary_accuracy: 1.0000 - loss: 0.0058 - val_binary_accuracy: 1.0000 - val_loss: 0.0051\n",
      "Epoch 20/20\n",
      "\u001b[1m191/191\u001b[0m \u001b[32m━━━━━━━━━━━━━━━━━━━━\u001b[0m\u001b[37m\u001b[0m \u001b[1m1s\u001b[0m 2ms/step - binary_accuracy: 1.0000 - loss: 0.0045 - val_binary_accuracy: 1.0000 - val_loss: 0.0044\n"
     ]
    }
   ],
   "source": [
    "from sklearn.model_selection import train_test_split\n",
    "X_train, X_test, y_train, y_test = train_test_split(X, y)\n",
    "\n",
    "import tensorflow as tf\n",
    "from tensorflow import keras\n",
    "from keras import layers, Sequential\n",
    "\n",
    "num_features = X.shape[1]\n",
    "print(num_features)\n",
    "\n",
    "model = Sequential()\n",
    "model.add(layers.Dense(num_features, activation=\"relu\"))\n",
    "model.add(layers.Dense(1, activation=\"sigmoid\"))\n",
    "model.compile(optimizer=\"adam\", loss=\"binary_crossentropy\", metrics=[\"binary_accuracy\"])\n",
    "history = model.fit(X_train, y_train, validation_data=(X_test, y_test), epochs=20)"
   ]
  },
  {
   "cell_type": "code",
   "execution_count": 38,
   "id": "1475326c-e69d-4484-a0fc-09579968a9fc",
   "metadata": {},
   "outputs": [
    {
     "data": {
      "text/html": [
       "<pre style=\"white-space:pre;overflow-x:auto;line-height:normal;font-family:Menlo,'DejaVu Sans Mono',consolas,'Courier New',monospace\"><span style=\"font-weight: bold\">Model: \"sequential_5\"</span>\n",
       "</pre>\n"
      ],
      "text/plain": [
       "\u001b[1mModel: \"sequential_5\"\u001b[0m\n"
      ]
     },
     "metadata": {},
     "output_type": "display_data"
    },
    {
     "data": {
      "text/html": [
       "<pre style=\"white-space:pre;overflow-x:auto;line-height:normal;font-family:Menlo,'DejaVu Sans Mono',consolas,'Courier New',monospace\">┏━━━━━━━━━━━━━━━━━━━━━━━━━━━━━━━━━┳━━━━━━━━━━━━━━━━━━━━━━━━┳━━━━━━━━━━━━━━━┓\n",
       "┃<span style=\"font-weight: bold\"> Layer (type)                    </span>┃<span style=\"font-weight: bold\"> Output Shape           </span>┃<span style=\"font-weight: bold\">       Param # </span>┃\n",
       "┡━━━━━━━━━━━━━━━━━━━━━━━━━━━━━━━━━╇━━━━━━━━━━━━━━━━━━━━━━━━╇━━━━━━━━━━━━━━━┩\n",
       "│ dense_10 (<span style=\"color: #0087ff; text-decoration-color: #0087ff\">Dense</span>)                │ (<span style=\"color: #00d7ff; text-decoration-color: #00d7ff\">None</span>, <span style=\"color: #00af00; text-decoration-color: #00af00\">20</span>)             │           <span style=\"color: #00af00; text-decoration-color: #00af00\">420</span> │\n",
       "├─────────────────────────────────┼────────────────────────┼───────────────┤\n",
       "│ dense_11 (<span style=\"color: #0087ff; text-decoration-color: #0087ff\">Dense</span>)                │ (<span style=\"color: #00d7ff; text-decoration-color: #00d7ff\">None</span>, <span style=\"color: #00af00; text-decoration-color: #00af00\">1</span>)              │            <span style=\"color: #00af00; text-decoration-color: #00af00\">21</span> │\n",
       "└─────────────────────────────────┴────────────────────────┴───────────────┘\n",
       "</pre>\n"
      ],
      "text/plain": [
       "┏━━━━━━━━━━━━━━━━━━━━━━━━━━━━━━━━━┳━━━━━━━━━━━━━━━━━━━━━━━━┳━━━━━━━━━━━━━━━┓\n",
       "┃\u001b[1m \u001b[0m\u001b[1mLayer (type)                   \u001b[0m\u001b[1m \u001b[0m┃\u001b[1m \u001b[0m\u001b[1mOutput Shape          \u001b[0m\u001b[1m \u001b[0m┃\u001b[1m \u001b[0m\u001b[1m      Param #\u001b[0m\u001b[1m \u001b[0m┃\n",
       "┡━━━━━━━━━━━━━━━━━━━━━━━━━━━━━━━━━╇━━━━━━━━━━━━━━━━━━━━━━━━╇━━━━━━━━━━━━━━━┩\n",
       "│ dense_10 (\u001b[38;5;33mDense\u001b[0m)                │ (\u001b[38;5;45mNone\u001b[0m, \u001b[38;5;34m20\u001b[0m)             │           \u001b[38;5;34m420\u001b[0m │\n",
       "├─────────────────────────────────┼────────────────────────┼───────────────┤\n",
       "│ dense_11 (\u001b[38;5;33mDense\u001b[0m)                │ (\u001b[38;5;45mNone\u001b[0m, \u001b[38;5;34m1\u001b[0m)              │            \u001b[38;5;34m21\u001b[0m │\n",
       "└─────────────────────────────────┴────────────────────────┴───────────────┘\n"
      ]
     },
     "metadata": {},
     "output_type": "display_data"
    },
    {
     "data": {
      "text/html": [
       "<pre style=\"white-space:pre;overflow-x:auto;line-height:normal;font-family:Menlo,'DejaVu Sans Mono',consolas,'Courier New',monospace\"><span style=\"font-weight: bold\"> Total params: </span><span style=\"color: #00af00; text-decoration-color: #00af00\">1,325</span> (5.18 KB)\n",
       "</pre>\n"
      ],
      "text/plain": [
       "\u001b[1m Total params: \u001b[0m\u001b[38;5;34m1,325\u001b[0m (5.18 KB)\n"
      ]
     },
     "metadata": {},
     "output_type": "display_data"
    },
    {
     "data": {
      "text/html": [
       "<pre style=\"white-space:pre;overflow-x:auto;line-height:normal;font-family:Menlo,'DejaVu Sans Mono',consolas,'Courier New',monospace\"><span style=\"font-weight: bold\"> Trainable params: </span><span style=\"color: #00af00; text-decoration-color: #00af00\">441</span> (1.72 KB)\n",
       "</pre>\n"
      ],
      "text/plain": [
       "\u001b[1m Trainable params: \u001b[0m\u001b[38;5;34m441\u001b[0m (1.72 KB)\n"
      ]
     },
     "metadata": {},
     "output_type": "display_data"
    },
    {
     "data": {
      "text/html": [
       "<pre style=\"white-space:pre;overflow-x:auto;line-height:normal;font-family:Menlo,'DejaVu Sans Mono',consolas,'Courier New',monospace\"><span style=\"font-weight: bold\"> Non-trainable params: </span><span style=\"color: #00af00; text-decoration-color: #00af00\">0</span> (0.00 B)\n",
       "</pre>\n"
      ],
      "text/plain": [
       "\u001b[1m Non-trainable params: \u001b[0m\u001b[38;5;34m0\u001b[0m (0.00 B)\n"
      ]
     },
     "metadata": {},
     "output_type": "display_data"
    },
    {
     "data": {
      "text/html": [
       "<pre style=\"white-space:pre;overflow-x:auto;line-height:normal;font-family:Menlo,'DejaVu Sans Mono',consolas,'Courier New',monospace\"><span style=\"font-weight: bold\"> Optimizer params: </span><span style=\"color: #00af00; text-decoration-color: #00af00\">884</span> (3.46 KB)\n",
       "</pre>\n"
      ],
      "text/plain": [
       "\u001b[1m Optimizer params: \u001b[0m\u001b[38;5;34m884\u001b[0m (3.46 KB)\n"
      ]
     },
     "metadata": {},
     "output_type": "display_data"
    }
   ],
   "source": [
    "model.summary()"
   ]
  },
  {
   "cell_type": "code",
   "execution_count": 36,
   "id": "15d03e26-3fb1-4f15-a6ed-1c494e65ea38",
   "metadata": {},
   "outputs": [
    {
     "data": {
      "image/png": "[encoded data removed]",
      "text/plain": [
       "<Figure size 640x480 with 1 Axes>"
      ]
     },
     "metadata": {},
     "output_type": "display_data"
    },
    {
     "data": {
      "image/png": "[encoded data removed]",
      "text/plain": [
       "<Figure size 640x480 with 1 Axes>"
      ]
     },
     "metadata": {},
     "output_type": "display_data"
    }
   ],
   "source": [
    "import matplotlib.pyplot as plt\n",
    "import seaborn as sns\n",
    "\n",
    "plt.title(\"loss\")\n",
    "ax = sns.lineplot(history.history[\"loss\"], label=\"train\")\n",
    "sns.lineplot(history.history[\"val_loss\"], ax=ax, label=\"test\")\n",
    "plt.show()\n",
    "\n",
    "plt.title(\"accuracy\")\n",
    "ax = sns.lineplot(history.history[\"binary_accuracy\"], label=\"train\")\n",
    "sns.lineplot(history.history[\"val_binary_accuracy\"], ax=ax, label=\"test\")\n",
    "plt.show()"
   ]
  },
  {
   "cell_type": "code",
   "execution_count": 37,
   "id": "ee7fd970-77bf-4391-b224-5f1388633b51",
   "metadata": {},
   "outputs": [
    {
     "name": "stdout",
     "output_type": "stream",
     "text": [
      "\u001b[1m64/64\u001b[0m \u001b[32m━━━━━━━━━━━━━━━━━━━━\u001b[0m\u001b[37m\u001b[0m \u001b[1m0s\u001b[0m 2ms/step\n"
     ]
    },
    {
     "data": {
      "text/plain": [
       "[Text(0.5, 23.52222222222222, 'Actual labels'),\n",
       " Text(50.722222222222214, 0.5, 'Predicted labels')]"
      ]
     },
     "execution_count": 37,
     "metadata": {},
     "output_type": "execute_result"
    },
    {
     "data": {
      "image/png": "[encoded data removed]",
      "text/plain": [
       "<Figure size 640x480 with 2 Axes>"
      ]
     },
     "metadata": {},
     "output_type": "display_data"
    }
   ],
   "source": [
    "from tensorflow.math import confusion_matrix\n",
    "predictions = np.round(model.predict(X_test))\n",
    "matrix = confusion_matrix(labels=y_test, predictions=predictions[:, 0])\n",
    "\n",
    "import seaborn as sns\n",
    "ax = sns.heatmap(matrix, annot=True)\n",
    "ax.set(xlabel=\"Actual labels\", ylabel=\"Predicted labels\")"
   ]
  },
  {
   "cell_type": "code",
   "execution_count": null,
   "id": "7fcf327f-89ae-42b1-ab8b-965789e5752e",
   "metadata": {},
   "outputs": [],
   "source": []
  }
 ],
 "metadata": {
  "kernelspec": {
   "display_name": "Python 3 (ipykernel)",
   "language": "python",
   "name": "python3"
  },
  "language_info": {
   "codemirror_mode": {
    "name": "ipython",
    "version": 3
   },
   "file_extension": ".py",
   "mimetype": "text/x-python",
   "name": "python",
   "nbconvert_exporter": "python",
   "pygments_lexer": "ipython3",
   "version": "3.12.4"
  }
 },
 "nbformat": 4,
 "nbformat_minor": 5
}
